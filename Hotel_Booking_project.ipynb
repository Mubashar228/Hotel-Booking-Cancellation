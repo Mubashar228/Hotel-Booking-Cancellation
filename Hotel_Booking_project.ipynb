{
  "cells": [
    {
      "cell_type": "markdown",
      "metadata": {
        "id": "view-in-github",
        "colab_type": "text"
      },
      "source": [
        "<a href=\"https://colab.research.google.com/github/Mubashar228/Hotel-Booking-Cancellation/blob/main/Hotel_Booking_project.ipynb\" target=\"_parent\"><img src=\"https://colab.research.google.com/assets/colab-badge.svg\" alt=\"Open In Colab\"/></a>"
      ]
    },
    {
      "cell_type": "code",
      "execution_count": null,
      "metadata": {
        "id": "OvzEAv5kq4LL"
      },
      "outputs": [],
      "source": [
        "!apt-get install openjdk-8-jdk-headless -qq > /dev/null\n",
        "!wget -q http://archive.apache.org/dist/spark/spark-3.5.1/spark-3.5.1-bin-hadoop3.tgz\n",
        "!tar xf spark-3.5.1-bin-hadoop3.tgz\n",
        "!pip install -q findspark"
      ]
    },
    {
      "cell_type": "code",
      "execution_count": null,
      "metadata": {
        "id": "lp5-16ONq5Ur"
      },
      "outputs": [],
      "source": [
        "import os\n",
        "os.environ[\"JAVA_HOME\"] = \"/usr/lib/jvm/java-8-openjdk-amd64\"\n",
        "os.environ[\"SPARK_HOME\"] = \"/content/spark-3.5.1-bin-hadoop3\""
      ]
    },
    {
      "cell_type": "code",
      "execution_count": null,
      "metadata": {
        "id": "xz2fKNaWrnad"
      },
      "outputs": [],
      "source": [
        "import findspark\n",
        "findspark.init()"
      ]
    },
    {
      "cell_type": "code",
      "execution_count": null,
      "metadata": {
        "id": "RORvU-4qzk99"
      },
      "outputs": [],
      "source": [
        "cpath=(\"/content/hotel_booking.csv\")"
      ]
    },
    {
      "cell_type": "code",
      "execution_count": null,
      "metadata": {
        "id": "_PeBJiGpzvUQ"
      },
      "outputs": [],
      "source": [
        "from pyspark.sql import SparkSession"
      ]
    },
    {
      "cell_type": "code",
      "execution_count": null,
      "metadata": {
        "id": "pSmLl7_Lz4jl"
      },
      "outputs": [],
      "source": [
        "spark=SparkSession.builder.appName(\"Hotel_Booking_Canceletion\").getOrCreate()"
      ]
    },
    {
      "cell_type": "code",
      "execution_count": null,
      "metadata": {
        "id": "5mNBhYba0Tq0",
        "colab": {
          "base_uri": "https://localhost:8080/",
          "height": 219
        },
        "outputId": "47b51eb4-7247-498f-9835-97671f994c3b"
      },
      "outputs": [
        {
          "output_type": "execute_result",
          "data": {
            "text/plain": [
              "<pyspark.sql.session.SparkSession at 0x7a7460c59b10>"
            ],
            "text/html": [
              "\n",
              "            <div>\n",
              "                <p><b>SparkSession - in-memory</b></p>\n",
              "                \n",
              "        <div>\n",
              "            <p><b>SparkContext</b></p>\n",
              "\n",
              "            <p><a href=\"http://57d878b0fac5:4040\">Spark UI</a></p>\n",
              "\n",
              "            <dl>\n",
              "              <dt>Version</dt>\n",
              "                <dd><code>v3.5.1</code></dd>\n",
              "              <dt>Master</dt>\n",
              "                <dd><code>local[*]</code></dd>\n",
              "              <dt>AppName</dt>\n",
              "                <dd><code>Hotel_Booking_Canceletion</code></dd>\n",
              "            </dl>\n",
              "        </div>\n",
              "        \n",
              "            </div>\n",
              "        "
            ]
          },
          "metadata": {},
          "execution_count": 7
        }
      ],
      "source": [
        "spark"
      ]
    },
    {
      "cell_type": "markdown",
      "source": [],
      "metadata": {
        "id": "QflgHYm8yiIo"
      }
    },
    {
      "cell_type": "markdown",
      "source": [],
      "metadata": {
        "id": "Z6eu5BRByhre"
      }
    },
    {
      "cell_type": "code",
      "execution_count": null,
      "metadata": {
        "id": "7BevimoE0WtX"
      },
      "outputs": [],
      "source": [
        "df=spark.read.csv(cpath,header=True,inferSchema=True)"
      ]
    },
    {
      "cell_type": "code",
      "execution_count": null,
      "metadata": {
        "id": "prPgmjij0lD2",
        "colab": {
          "base_uri": "https://localhost:8080/"
        },
        "outputId": "9412d607-08c1-4172-fb6d-6e05074551a3"
      },
      "outputs": [
        {
          "output_type": "stream",
          "name": "stdout",
          "text": [
            "+------------+-----------+---------+-----------------+------------------+------------------------+-------------------------+-----------------------+--------------------+------+--------+------+----+-------+--------------+--------------------+-----------------+----------------------+------------------------------+------------------+------------------+---------------+------------+-----+-------+--------------------+-------------+------+---------------------------+-------------------------+------------------+-----------------------+--------------------+--------------------+------------+----------------+\n",
            "|       hotel|is_canceled|lead_time|arrival_date_year|arrival_date_month|arrival_date_week_number|arrival_date_day_of_month|stays_in_weekend_nights|stays_in_week_nights|adults|children|babies|meal|country|market_segment|distribution_channel|is_repeated_guest|previous_cancellations|previous_bookings_not_canceled|reserved_room_type|assigned_room_type|booking_changes|deposit_type|agent|company|days_in_waiting_list|customer_type|   adr|required_car_parking_spaces|total_of_special_requests|reservation_status|reservation_status_date|                name|               email|phone-number|     credit_card|\n",
            "+------------+-----------+---------+-----------------+------------------+------------------------+-------------------------+-----------------------+--------------------+------+--------+------+----+-------+--------------+--------------------+-----------------+----------------------+------------------------------+------------------+------------------+---------------+------------+-----+-------+--------------------+-------------+------+---------------------------+-------------------------+------------------+-----------------------+--------------------+--------------------+------------+----------------+\n",
            "|Resort Hotel|          0|      342|             2015|              July|                      27|                        1|                      0|                   0|     2|     0.0|     0|  BB|    PRT|        Direct|              Direct|                0|                     0|                             0|                 C|                 C|              3|  No Deposit| NULL|   NULL|                   0|    Transient|   0.0|                          0|                        0|         Check-Out|             2015-07-01|       Ernest Barnes|Ernest.Barnes31@o...|669-792-1661|************4322|\n",
            "|Resort Hotel|          0|      737|             2015|              July|                      27|                        1|                      0|                   0|     2|     0.0|     0|  BB|    PRT|        Direct|              Direct|                0|                     0|                             0|                 C|                 C|              4|  No Deposit| NULL|   NULL|                   0|    Transient|   0.0|                          0|                        0|         Check-Out|             2015-07-01|        Andrea Baker|Andrea_Baker94@ao...|858-637-6955|************9157|\n",
            "|Resort Hotel|          0|        7|             2015|              July|                      27|                        1|                      0|                   1|     1|     0.0|     0|  BB|    GBR|        Direct|              Direct|                0|                     0|                             0|                 A|                 C|              0|  No Deposit| NULL|   NULL|                   0|    Transient|  75.0|                          0|                        0|         Check-Out|             2015-07-02|      Rebecca Parker|Rebecca_Parker@co...|652-885-2745|************3734|\n",
            "|Resort Hotel|          0|       13|             2015|              July|                      27|                        1|                      0|                   1|     1|     0.0|     0|  BB|    GBR|     Corporate|           Corporate|                0|                     0|                             0|                 A|                 A|              0|  No Deposit|304.0|   NULL|                   0|    Transient|  75.0|                          0|                        0|         Check-Out|             2015-07-02|        Laura Murray|   Laura_M@gmail.com|364-656-8427|************5677|\n",
            "|Resort Hotel|          0|       14|             2015|              July|                      27|                        1|                      0|                   2|     2|     0.0|     0|  BB|    GBR|     Online TA|               TA/TO|                0|                     0|                             0|                 A|                 A|              0|  No Deposit|240.0|   NULL|                   0|    Transient|  98.0|                          0|                        1|         Check-Out|             2015-07-03|         Linda Hines|  LHines@verizon.com|713-226-5883|************5498|\n",
            "|Resort Hotel|          0|       14|             2015|              July|                      27|                        1|                      0|                   2|     2|     0.0|     0|  BB|    GBR|     Online TA|               TA/TO|                0|                     0|                             0|                 A|                 A|              0|  No Deposit|240.0|   NULL|                   0|    Transient|  98.0|                          0|                        1|         Check-Out|             2015-07-03|    Jasmine Fletcher|JFletcher43@xfini...|190-271-6743|************9263|\n",
            "|Resort Hotel|          0|        0|             2015|              July|                      27|                        1|                      0|                   2|     2|     0.0|     0|  BB|    PRT|        Direct|              Direct|                0|                     0|                             0|                 C|                 C|              0|  No Deposit| NULL|   NULL|                   0|    Transient| 107.0|                          0|                        0|         Check-Out|             2015-07-03|        Dylan Rangel|Rangel.Dylan@comc...|420-332-5209|************6994|\n",
            "|Resort Hotel|          0|        9|             2015|              July|                      27|                        1|                      0|                   2|     2|     0.0|     0|  FB|    PRT|        Direct|              Direct|                0|                     0|                             0|                 C|                 C|              0|  No Deposit|303.0|   NULL|                   0|    Transient| 103.0|                          0|                        1|         Check-Out|             2015-07-03|       William Velez|Velez_William@mai...|286-669-4333|************8729|\n",
            "|Resort Hotel|          1|       85|             2015|              July|                      27|                        1|                      0|                   3|     2|     0.0|     0|  BB|    PRT|     Online TA|               TA/TO|                0|                     0|                             0|                 A|                 A|              0|  No Deposit|240.0|   NULL|                   0|    Transient|  82.0|                          0|                        1|          Canceled|             2015-05-06|       Steven Murphy|Steven.Murphy54@a...|341-726-5787|************3639|\n",
            "|Resort Hotel|          1|       75|             2015|              July|                      27|                        1|                      0|                   3|     2|     0.0|     0|  HB|    PRT| Offline TA/TO|               TA/TO|                0|                     0|                             0|                 D|                 D|              0|  No Deposit| 15.0|   NULL|                   0|    Transient| 105.5|                          0|                        0|          Canceled|             2015-04-22|       Michael Moore|MichaelMoore81@ou...|316-648-6176|************9190|\n",
            "|Resort Hotel|          1|       23|             2015|              July|                      27|                        1|                      0|                   4|     2|     0.0|     0|  BB|    PRT|     Online TA|               TA/TO|                0|                     0|                             0|                 E|                 E|              0|  No Deposit|240.0|   NULL|                   0|    Transient| 123.0|                          0|                        0|          Canceled|             2015-06-23|Priscilla Collins...|PhD.Priscilla74@a...|833-887-7898|************4642|\n",
            "|Resort Hotel|          0|       35|             2015|              July|                      27|                        1|                      0|                   4|     2|     0.0|     0|  HB|    PRT|     Online TA|               TA/TO|                0|                     0|                             0|                 D|                 D|              0|  No Deposit|240.0|   NULL|                   0|    Transient| 145.0|                          0|                        0|         Check-Out|             2015-07-05|        Laurie Smith|Smith.Laurie@att.com|804-383-4080|************5450|\n",
            "|Resort Hotel|          0|       68|             2015|              July|                      27|                        1|                      0|                   4|     2|     0.0|     0|  BB|    USA|     Online TA|               TA/TO|                0|                     0|                             0|                 D|                 E|              0|  No Deposit|240.0|   NULL|                   0|    Transient|  97.0|                          0|                        3|         Check-Out|             2015-07-05|        Casey Thomas|Casey_T78@outlook...|211-071-2173|************8518|\n",
            "|Resort Hotel|          0|       18|             2015|              July|                      27|                        1|                      0|                   4|     2|     1.0|     0|  HB|    ESP|     Online TA|               TA/TO|                0|                     0|                             0|                 G|                 G|              1|  No Deposit|241.0|   NULL|                   0|    Transient|154.77|                          0|                        1|         Check-Out|             2015-07-05|     Rachel Friedman|Rachel.F@protonma...|435-075-8409|************9767|\n",
            "|Resort Hotel|          0|       37|             2015|              July|                      27|                        1|                      0|                   4|     2|     0.0|     0|  BB|    PRT|     Online TA|               TA/TO|                0|                     0|                             0|                 E|                 E|              0|  No Deposit|241.0|   NULL|                   0|    Transient| 94.71|                          0|                        0|         Check-Out|             2015-07-05|       Edward Torres|   Edward.T@zoho.com|790-746-7471|************7719|\n",
            "|Resort Hotel|          0|       68|             2015|              July|                      27|                        1|                      0|                   4|     2|     0.0|     0|  BB|    IRL|     Online TA|               TA/TO|                0|                     0|                             0|                 D|                 E|              0|  No Deposit|240.0|   NULL|                   0|    Transient|  97.0|                          0|                        3|         Check-Out|             2015-07-05|       Samuel Zavala|Zavala_Samuel46@x...|649-384-5387|************7612|\n",
            "|Resort Hotel|          0|       37|             2015|              July|                      27|                        1|                      0|                   4|     2|     0.0|     0|  BB|    PRT| Offline TA/TO|               TA/TO|                0|                     0|                             0|                 E|                 E|              0|  No Deposit|  8.0|   NULL|                   0|     Contract|  97.5|                          0|                        0|         Check-Out|             2015-07-05|   Dr. Victor Martin|Dr.Martin@xfinity...|331-430-8824|************6279|\n",
            "|Resort Hotel|          0|       12|             2015|              July|                      27|                        1|                      0|                   1|     2|     0.0|     0|  BB|    IRL|     Online TA|               TA/TO|                0|                     0|                             0|                 A|                 E|              0|  No Deposit|240.0|   NULL|                   0|    Transient|  88.2|                          0|                        0|         Check-Out|             2015-07-02|            Sara Lee|  Sara.L@hotmail.com|573-306-9938|************8950|\n",
            "|Resort Hotel|          0|        0|             2015|              July|                      27|                        1|                      0|                   1|     2|     0.0|     0|  BB|    FRA|     Corporate|           Corporate|                0|                     0|                             0|                 A|                 G|              0|  No Deposit| NULL|  110.0|                   0|    Transient|107.42|                          0|                        0|         Check-Out|             2015-07-02|    Curtis Rodriguez|CRodriguez@verizo...|466-424-2102|************1179|\n",
            "|Resort Hotel|          0|        7|             2015|              July|                      27|                        1|                      0|                   4|     2|     0.0|     0|  BB|    GBR|        Direct|              Direct|                0|                     0|                             0|                 G|                 G|              0|  No Deposit|250.0|   NULL|                   0|    Transient| 153.0|                          0|                        1|         Check-Out|             2015-07-05|   Stephanie Schmidt|StephanieSchmidt@...|896-642-1049|************1110|\n",
            "+------------+-----------+---------+-----------------+------------------+------------------------+-------------------------+-----------------------+--------------------+------+--------+------+----+-------+--------------+--------------------+-----------------+----------------------+------------------------------+------------------+------------------+---------------+------------+-----+-------+--------------------+-------------+------+---------------------------+-------------------------+------------------+-----------------------+--------------------+--------------------+------------+----------------+\n",
            "only showing top 20 rows\n",
            "\n"
          ]
        }
      ],
      "source": [
        "df.show()"
      ]
    },
    {
      "cell_type": "code",
      "execution_count": null,
      "metadata": {
        "id": "0hZKGQnN0oyc",
        "colab": {
          "base_uri": "https://localhost:8080/"
        },
        "outputId": "cbeffcc4-c881-49c5-9286-5d95b76fd61f"
      },
      "outputs": [
        {
          "output_type": "stream",
          "name": "stdout",
          "text": [
            "+------------+-----------+---------+-----------------+------------------+------------------------+-------------------------+-----------------------+--------------------+------+--------+------+----+-------+--------------+--------------------+-----------------+----------------------+------------------------------+------------------+------------------+---------------+------------+-----+-------+--------------------+-------------+----+---------------------------+-------------------------+------------------+-----------------------+--------------+--------------------+------------+----------------+\n",
            "|       hotel|is_canceled|lead_time|arrival_date_year|arrival_date_month|arrival_date_week_number|arrival_date_day_of_month|stays_in_weekend_nights|stays_in_week_nights|adults|children|babies|meal|country|market_segment|distribution_channel|is_repeated_guest|previous_cancellations|previous_bookings_not_canceled|reserved_room_type|assigned_room_type|booking_changes|deposit_type|agent|company|days_in_waiting_list|customer_type| adr|required_car_parking_spaces|total_of_special_requests|reservation_status|reservation_status_date|          name|               email|phone-number|     credit_card|\n",
            "+------------+-----------+---------+-----------------+------------------+------------------------+-------------------------+-----------------------+--------------------+------+--------+------+----+-------+--------------+--------------------+-----------------+----------------------+------------------------------+------------------+------------------+---------------+------------+-----+-------+--------------------+-------------+----+---------------------------+-------------------------+------------------+-----------------------+--------------+--------------------+------------+----------------+\n",
            "|Resort Hotel|          0|      342|             2015|              July|                      27|                        1|                      0|                   0|     2|     0.0|     0|  BB|    PRT|        Direct|              Direct|                0|                     0|                             0|                 C|                 C|              3|  No Deposit| NULL|   NULL|                   0|    Transient| 0.0|                          0|                        0|         Check-Out|             2015-07-01| Ernest Barnes|Ernest.Barnes31@o...|669-792-1661|************4322|\n",
            "|Resort Hotel|          0|      737|             2015|              July|                      27|                        1|                      0|                   0|     2|     0.0|     0|  BB|    PRT|        Direct|              Direct|                0|                     0|                             0|                 C|                 C|              4|  No Deposit| NULL|   NULL|                   0|    Transient| 0.0|                          0|                        0|         Check-Out|             2015-07-01|  Andrea Baker|Andrea_Baker94@ao...|858-637-6955|************9157|\n",
            "|Resort Hotel|          0|        7|             2015|              July|                      27|                        1|                      0|                   1|     1|     0.0|     0|  BB|    GBR|        Direct|              Direct|                0|                     0|                             0|                 A|                 C|              0|  No Deposit| NULL|   NULL|                   0|    Transient|75.0|                          0|                        0|         Check-Out|             2015-07-02|Rebecca Parker|Rebecca_Parker@co...|652-885-2745|************3734|\n",
            "+------------+-----------+---------+-----------------+------------------+------------------------+-------------------------+-----------------------+--------------------+------+--------+------+----+-------+--------------+--------------------+-----------------+----------------------+------------------------------+------------------+------------------+---------------+------------+-----+-------+--------------------+-------------+----+---------------------------+-------------------------+------------------+-----------------------+--------------+--------------------+------------+----------------+\n",
            "only showing top 3 rows\n",
            "\n"
          ]
        }
      ],
      "source": [
        "df.show(3)"
      ]
    },
    {
      "cell_type": "code",
      "execution_count": null,
      "metadata": {
        "id": "1sBYU-5P1Bjx",
        "colab": {
          "base_uri": "https://localhost:8080/"
        },
        "outputId": "ebf46f31-f463-44f5-f6f3-67bb75327e30"
      },
      "outputs": [
        {
          "output_type": "stream",
          "name": "stdout",
          "text": [
            "root\n",
            " |-- hotel: string (nullable = true)\n",
            " |-- is_canceled: integer (nullable = true)\n",
            " |-- lead_time: integer (nullable = true)\n",
            " |-- arrival_date_year: integer (nullable = true)\n",
            " |-- arrival_date_month: string (nullable = true)\n",
            " |-- arrival_date_week_number: integer (nullable = true)\n",
            " |-- arrival_date_day_of_month: integer (nullable = true)\n",
            " |-- stays_in_weekend_nights: integer (nullable = true)\n",
            " |-- stays_in_week_nights: integer (nullable = true)\n",
            " |-- adults: integer (nullable = true)\n",
            " |-- children: double (nullable = true)\n",
            " |-- babies: integer (nullable = true)\n",
            " |-- meal: string (nullable = true)\n",
            " |-- country: string (nullable = true)\n",
            " |-- market_segment: string (nullable = true)\n",
            " |-- distribution_channel: string (nullable = true)\n",
            " |-- is_repeated_guest: integer (nullable = true)\n",
            " |-- previous_cancellations: integer (nullable = true)\n",
            " |-- previous_bookings_not_canceled: integer (nullable = true)\n",
            " |-- reserved_room_type: string (nullable = true)\n",
            " |-- assigned_room_type: string (nullable = true)\n",
            " |-- booking_changes: integer (nullable = true)\n",
            " |-- deposit_type: string (nullable = true)\n",
            " |-- agent: double (nullable = true)\n",
            " |-- company: double (nullable = true)\n",
            " |-- days_in_waiting_list: integer (nullable = true)\n",
            " |-- customer_type: string (nullable = true)\n",
            " |-- adr: double (nullable = true)\n",
            " |-- required_car_parking_spaces: integer (nullable = true)\n",
            " |-- total_of_special_requests: integer (nullable = true)\n",
            " |-- reservation_status: string (nullable = true)\n",
            " |-- reservation_status_date: date (nullable = true)\n",
            " |-- name: string (nullable = true)\n",
            " |-- email: string (nullable = true)\n",
            " |-- phone-number: string (nullable = true)\n",
            " |-- credit_card: string (nullable = true)\n",
            "\n"
          ]
        }
      ],
      "source": [
        "df.printSchema()"
      ]
    },
    {
      "cell_type": "code",
      "execution_count": null,
      "metadata": {
        "id": "F7Wadpqd1clV",
        "colab": {
          "base_uri": "https://localhost:8080/"
        },
        "outputId": "86b53ba6-36c5-43a0-95ff-db072f924ef4"
      },
      "outputs": [
        {
          "output_type": "execute_result",
          "data": {
            "text/plain": [
              "DataFrame[hotel: string, is_canceled: int, lead_time: int, arrival_date_year: int, arrival_date_month: string, arrival_date_week_number: int, arrival_date_day_of_month: int, stays_in_weekend_nights: int, stays_in_week_nights: int, adults: int, children: double, babies: int, meal: string, country: string, market_segment: string, distribution_channel: string, is_repeated_guest: int, previous_cancellations: int, previous_bookings_not_canceled: int, reserved_room_type: string, assigned_room_type: string, booking_changes: int, deposit_type: string, agent: double, company: double, days_in_waiting_list: int, customer_type: string, adr: double, required_car_parking_spaces: int, total_of_special_requests: int, reservation_status: string, reservation_status_date: date, name: string, email: string, phone-number: string, credit_card: string]"
            ]
          },
          "metadata": {},
          "execution_count": 13
        }
      ],
      "source": [
        "df"
      ]
    },
    {
      "cell_type": "code",
      "execution_count": null,
      "metadata": {
        "id": "KMr4s_nrDiRp"
      },
      "outputs": [],
      "source": [
        "# Data Cleaning and Feature Engineering"
      ]
    },
    {
      "cell_type": "code",
      "execution_count": null,
      "metadata": {
        "id": "P5fQpSEtEH7X"
      },
      "outputs": [],
      "source": [
        "from pyspark.sql.functions import col"
      ]
    },
    {
      "cell_type": "code",
      "execution_count": null,
      "metadata": {
        "id": "r6vusUT5EWWA",
        "colab": {
          "base_uri": "https://localhost:8080/"
        },
        "outputId": "8fa89fc8-eba8-4ecb-fa4f-186a8981072e"
      },
      "outputs": [
        {
          "output_type": "execute_result",
          "data": {
            "text/plain": [
              "DataFrame[hotel: string, is_canceled: int, lead_time: int, arrival_date_year: int, arrival_date_month: string, arrival_date_week_number: int, arrival_date_day_of_month: int, stays_in_weekend_nights: int, stays_in_week_nights: int, adults: int, children: double, babies: int, meal: string, country: string, market_segment: string, distribution_channel: string, is_repeated_guest: int, previous_cancellations: int, previous_bookings_not_canceled: int, reserved_room_type: string, assigned_room_type: string, booking_changes: int, deposit_type: string, agent: double, company: double, days_in_waiting_list: int, customer_type: string, adr: double, required_car_parking_spaces: int, total_of_special_requests: int, reservation_status: string, reservation_status_date: date, name: string, email: string, phone-number: string, credit_card: string]"
            ]
          },
          "metadata": {},
          "execution_count": 15
        }
      ],
      "source": [
        "df.na.drop()"
      ]
    },
    {
      "cell_type": "code",
      "execution_count": null,
      "metadata": {
        "id": "ocz80_6NGgjR"
      },
      "outputs": [],
      "source": [
        "selected_col=[\n",
        "    \"lead_time\",\"hotel\",\"previous_cancellations\",\"previous_bookings_not_canceled\", \"booking_changes\",\"deposit_type\",\"customer_type\",\"market_segment\",\"required_car_parking_spaces\",\"total_of_special_requests\",\"is_canceled\"\n",
        "]"
      ]
    },
    {
      "cell_type": "code",
      "execution_count": null,
      "metadata": {
        "id": "hXE28GBBKUzm",
        "colab": {
          "base_uri": "https://localhost:8080/"
        },
        "outputId": "eb840366-7c70-4e1d-f490-3eb19dcc9db2"
      },
      "outputs": [
        {
          "output_type": "stream",
          "name": "stdout",
          "text": [
            "+---------+------------+----------------------+------------------------------+---------------+------------+-------------+--------------+---------------------------+-------------------------+-----------+\n",
            "|lead_time|       hotel|previous_cancellations|previous_bookings_not_canceled|booking_changes|deposit_type|customer_type|market_segment|required_car_parking_spaces|total_of_special_requests|is_canceled|\n",
            "+---------+------------+----------------------+------------------------------+---------------+------------+-------------+--------------+---------------------------+-------------------------+-----------+\n",
            "|      342|Resort Hotel|                     0|                             0|              3|  No Deposit|    Transient|        Direct|                          0|                        0|          0|\n",
            "|      737|Resort Hotel|                     0|                             0|              4|  No Deposit|    Transient|        Direct|                          0|                        0|          0|\n",
            "|        7|Resort Hotel|                     0|                             0|              0|  No Deposit|    Transient|        Direct|                          0|                        0|          0|\n",
            "+---------+------------+----------------------+------------------------------+---------------+------------+-------------+--------------+---------------------------+-------------------------+-----------+\n",
            "only showing top 3 rows\n",
            "\n"
          ]
        }
      ],
      "source": [
        "df1=df.select(selected_col)\n",
        "df1.show(3)"
      ]
    },
    {
      "cell_type": "code",
      "execution_count": null,
      "metadata": {
        "id": "E4Pf1wbmKeKd",
        "colab": {
          "base_uri": "https://localhost:8080/"
        },
        "outputId": "2065e258-f03a-4271-b62a-b127ce0f076d"
      },
      "outputs": [
        {
          "output_type": "stream",
          "name": "stdout",
          "text": [
            "+------------+-----------+---------+-----------------+------------------+------------------------+-------------------------+-----------------------+--------------------+------+--------+------+----+-------+--------------+--------------------+-----------------+----------------------+------------------------------+------------------+------------------+---------------+------------+-----+-------+--------------------+-------------+---+---------------------------+-------------------------+------------------+-----------------------+-------------+--------------------+------------+----------------+\n",
            "|       hotel|is_canceled|lead_time|arrival_date_year|arrival_date_month|arrival_date_week_number|arrival_date_day_of_month|stays_in_weekend_nights|stays_in_week_nights|adults|children|babies|meal|country|market_segment|distribution_channel|is_repeated_guest|previous_cancellations|previous_bookings_not_canceled|reserved_room_type|assigned_room_type|booking_changes|deposit_type|agent|company|days_in_waiting_list|customer_type|adr|required_car_parking_spaces|total_of_special_requests|reservation_status|reservation_status_date|         name|               email|phone-number|     credit_card|\n",
            "+------------+-----------+---------+-----------------+------------------+------------------------+-------------------------+-----------------------+--------------------+------+--------+------+----+-------+--------------+--------------------+-----------------+----------------------+------------------------------+------------------+------------------+---------------+------------+-----+-------+--------------------+-------------+---+---------------------------+-------------------------+------------------+-----------------------+-------------+--------------------+------------+----------------+\n",
            "|Resort Hotel|          0|      342|             2015|              July|                      27|                        1|                      0|                   0|     2|     0.0|     0|  BB|    PRT|        Direct|              Direct|                0|                     0|                             0|                 C|                 C|              3|  No Deposit| NULL|   NULL|                   0|    Transient|0.0|                          0|                        0|         Check-Out|             2015-07-01|Ernest Barnes|Ernest.Barnes31@o...|669-792-1661|************4322|\n",
            "|Resort Hotel|          0|      737|             2015|              July|                      27|                        1|                      0|                   0|     2|     0.0|     0|  BB|    PRT|        Direct|              Direct|                0|                     0|                             0|                 C|                 C|              4|  No Deposit| NULL|   NULL|                   0|    Transient|0.0|                          0|                        0|         Check-Out|             2015-07-01| Andrea Baker|Andrea_Baker94@ao...|858-637-6955|************9157|\n",
            "+------------+-----------+---------+-----------------+------------------+------------------------+-------------------------+-----------------------+--------------------+------+--------+------+----+-------+--------------+--------------------+-----------------+----------------------+------------------------------+------------------+------------------+---------------+------------+-----+-------+--------------------+-------------+---+---------------------------+-------------------------+------------------+-----------------------+-------------+--------------------+------------+----------------+\n",
            "only showing top 2 rows\n",
            "\n"
          ]
        }
      ],
      "source": [
        "df.show(2)"
      ]
    },
    {
      "cell_type": "code",
      "execution_count": null,
      "metadata": {
        "id": "TbM12rSZLg3W",
        "colab": {
          "base_uri": "https://localhost:8080/"
        },
        "outputId": "6cc22914-05cd-4557-c1ea-fb737e1cc65e"
      },
      "outputs": [
        {
          "output_type": "stream",
          "name": "stdout",
          "text": [
            "+------------+\n",
            "|       hotel|\n",
            "+------------+\n",
            "|  City Hotel|\n",
            "|Resort Hotel|\n",
            "+------------+\n",
            "\n"
          ]
        }
      ],
      "source": [
        "df.select(\"hotel\").distinct().show()"
      ]
    },
    {
      "cell_type": "code",
      "execution_count": null,
      "metadata": {
        "id": "rxsWC0opNO9H",
        "colab": {
          "base_uri": "https://localhost:8080/"
        },
        "outputId": "5a4eb2cb-5ef8-456e-c5e3-9dd44421da8b"
      },
      "outputs": [
        {
          "output_type": "stream",
          "name": "stdout",
          "text": [
            "+-------+------------------+------------+----------------------+------------------------------+-------------------+------------+---------------+--------------+---------------------------+-------------------------+-------------------+\n",
            "|summary|         lead_time|       hotel|previous_cancellations|previous_bookings_not_canceled|    booking_changes|deposit_type|  customer_type|market_segment|required_car_parking_spaces|total_of_special_requests|        is_canceled|\n",
            "+-------+------------------+------------+----------------------+------------------------------+-------------------+------------+---------------+--------------+---------------------------+-------------------------+-------------------+\n",
            "|  count|            119390|      119390|                119390|                        119390|             119390|      119390|         119390|        119390|                     119390|                   119390|             119390|\n",
            "|   mean|104.01141636652986|        NULL|   0.08711784906608594|           0.13709690928888515|0.22112404724013737|        NULL|           NULL|          NULL|        0.06251779881062065|       0.5713627607002262|0.37041628277075134|\n",
            "| stddev|106.86309704798786|        NULL|    0.8443363841545105|            1.4974368477076783| 0.6523055726747699|        NULL|           NULL|          NULL|        0.24529114746749428|       0.7927984228094106|0.48291822659259775|\n",
            "|    min|                 0|  City Hotel|                     0|                             0|                  0|  No Deposit|       Contract|      Aviation|                          0|                        0|                  0|\n",
            "|    max|               737|Resort Hotel|                    26|                            72|                 21|  Refundable|Transient-Party|     Undefined|                          8|                        5|                  1|\n",
            "+-------+------------------+------------+----------------------+------------------------------+-------------------+------------+---------------+--------------+---------------------------+-------------------------+-------------------+\n",
            "\n"
          ]
        }
      ],
      "source": [
        "df1.describe().show()"
      ]
    },
    {
      "cell_type": "code",
      "execution_count": null,
      "metadata": {
        "id": "wrigDQPCOTci",
        "colab": {
          "base_uri": "https://localhost:8080/"
        },
        "outputId": "eeae98bb-6822-4c9e-d60a-1e64c4afd383"
      },
      "outputs": [
        {
          "output_type": "stream",
          "name": "stdout",
          "text": [
            "+-------+------------------+\n",
            "|summary|         lead_time|\n",
            "+-------+------------------+\n",
            "|  count|            119390|\n",
            "|   mean|104.01141636652986|\n",
            "| stddev|106.86309704798786|\n",
            "|    min|                 0|\n",
            "|    max|               737|\n",
            "+-------+------------------+\n",
            "\n"
          ]
        }
      ],
      "source": [
        "df.select(\"lead_time\").describe().show()"
      ]
    },
    {
      "cell_type": "code",
      "execution_count": null,
      "metadata": {
        "id": "6WVWh4EWPzF9",
        "colab": {
          "base_uri": "https://localhost:8080/"
        },
        "outputId": "9f80dc66-0a58-40da-e9fb-b64c453a6e20"
      },
      "outputs": [
        {
          "output_type": "stream",
          "name": "stdout",
          "text": [
            "+---------+\n",
            "|lead_time|\n",
            "+---------+\n",
            "|      342|\n",
            "|      737|\n",
            "|        7|\n",
            "|       13|\n",
            "|       14|\n",
            "|       14|\n",
            "|        0|\n",
            "|        9|\n",
            "|       85|\n",
            "|       75|\n",
            "|       23|\n",
            "|       35|\n",
            "|       68|\n",
            "|       18|\n",
            "|       37|\n",
            "|       68|\n",
            "|       37|\n",
            "|       12|\n",
            "|        0|\n",
            "|        7|\n",
            "+---------+\n",
            "only showing top 20 rows\n",
            "\n"
          ]
        }
      ],
      "source": [
        "df1.select(\"lead_time\").show()"
      ]
    },
    {
      "cell_type": "code",
      "execution_count": null,
      "metadata": {
        "id": "6Ou-Z4x2P-Qe",
        "colab": {
          "base_uri": "https://localhost:8080/"
        },
        "outputId": "17283b8a-146c-4f5a-d30f-f7f2ca707f57"
      },
      "outputs": [
        {
          "output_type": "stream",
          "name": "stdout",
          "text": [
            "+------------+\n",
            "|deposit_type|\n",
            "+------------+\n",
            "|  Non Refund|\n",
            "|  Refundable|\n",
            "|  No Deposit|\n",
            "+------------+\n",
            "\n"
          ]
        }
      ],
      "source": [
        "df.select(\"deposit_type\").distinct().show()"
      ]
    },
    {
      "cell_type": "code",
      "execution_count": null,
      "metadata": {
        "id": "kp9j9gEZQvFy",
        "colab": {
          "base_uri": "https://localhost:8080/"
        },
        "outputId": "ac3fed30-6449-4003-f8b2-1ce2eeedb4b1"
      },
      "outputs": [
        {
          "output_type": "stream",
          "name": "stdout",
          "text": [
            "+---------+-----+----------------------+------------------------------+---------------+------------+-------------+--------------+---------------------------+-------------------------+-----------+\n",
            "|lead_time|hotel|previous_cancellations|previous_bookings_not_canceled|booking_changes|deposit_type|customer_type|market_segment|required_car_parking_spaces|total_of_special_requests|is_canceled|\n",
            "+---------+-----+----------------------+------------------------------+---------------+------------+-------------+--------------+---------------------------+-------------------------+-----------+\n",
            "|        0|    0|                     0|                             0|              0|           0|            0|             0|                          0|                        0|          0|\n",
            "+---------+-----+----------------------+------------------------------+---------------+------------+-------------+--------------+---------------------------+-------------------------+-----------+\n",
            "\n"
          ]
        }
      ],
      "source": [
        "from pyspark.sql.functions import col,sum\n",
        "df1.select([sum(col(c).isNull().cast(\"int\")).alias(c) for c in df1.columns]).show()"
      ]
    },
    {
      "cell_type": "markdown",
      "metadata": {
        "id": "TgiyEEi1Rng7"
      },
      "source": [
        "***Feature  Engineering(Categorical columns ko Encode karna)***"
      ]
    },
    {
      "cell_type": "code",
      "execution_count": null,
      "metadata": {
        "id": "F_oji3tnyM_H"
      },
      "outputs": [],
      "source": [
        "from pyspark.ml.feature import StringIndexer"
      ]
    },
    {
      "cell_type": "code",
      "execution_count": null,
      "metadata": {
        "id": "6g8cpOfA0bAU",
        "colab": {
          "base_uri": "https://localhost:8080/"
        },
        "outputId": "8e4c8dfd-9177-48f5-9472-f990b2ecc40f"
      },
      "outputs": [
        {
          "output_type": "stream",
          "name": "stdout",
          "text": [
            "+------------+------------+---------------+--------------+-----------+------------------+-------------------+--------------------+\n",
            "|       hotel|deposit_type|  customer_type|market_segment|hotel_index|deposit_type_index|customer_type_index|market_segment_index|\n",
            "+------------+------------+---------------+--------------+-----------+------------------+-------------------+--------------------+\n",
            "|Resort Hotel|  No Deposit|          Group|        Direct|        1.0|               0.0|                3.0|                 3.0|\n",
            "|  City Hotel|  No Deposit|       Contract|     Online TA|        0.0|               0.0|                2.0|                 0.0|\n",
            "|Resort Hotel|  Refundable|          Group|        Groups|        1.0|               2.0|                3.0|                 2.0|\n",
            "|  City Hotel|  No Deposit|          Group|        Direct|        0.0|               0.0|                3.0|                 3.0|\n",
            "|Resort Hotel|  Non Refund|Transient-Party|        Direct|        1.0|               1.0|                1.0|                 3.0|\n",
            "+------------+------------+---------------+--------------+-----------+------------------+-------------------+--------------------+\n",
            "only showing top 5 rows\n",
            "\n"
          ]
        }
      ],
      "source": [
        "from pyspark.ml.feature import StringIndexer\n",
        "\n",
        "# Define the StringIndexer\n",
        "Indexer = StringIndexer(inputCols=[\"hotel\",\"deposit_type\",\"customer_type\",\"market_segment\"],\n",
        "                        outputCols=[\"hotel_index\",\"deposit_type_index\",\"customer_type_index\",\"market_segment_index\"])\n",
        "\n",
        "# Fit and transform using the 'Indexer' variable (uppercase 'I') you defined\n",
        "data = Indexer.fit(df1).transform(df1)\n",
        "\n",
        "# Now select the columns, including the newly created indexed columns\n",
        "data.select(\"hotel\",\"deposit_type\",\"customer_type\",\"market_segment\",\"hotel_index\",\"deposit_type_index\",\"customer_type_index\",\"market_segment_index\").distinct().show(5)"
      ]
    },
    {
      "cell_type": "code",
      "source": [
        "indexers = [\n",
        "    StringIndexer(inputCol=\"hotel\", outputCol=\"hotel_index\"),\n",
        "    StringIndexer(inputCol=\"deposit_type\", outputCol=\"deposit_type_index\"),\n",
        "    StringIndexer(inputCol=\"customer_type\", outputCol=\"customer_type_index\"),\n",
        "    StringIndexer(inputCol=\"market_segment\", outputCol=\"market_segment_index\")\n",
        "]\n",
        "\n",
        "# Apply transformations\n",
        "from pyspark.ml import Pipeline\n",
        "\n",
        "pipeline = Pipeline(stages=indexers)\n",
        "df1 = pipeline.fit(df1).transform(df1)"
      ],
      "metadata": {
        "id": "2vZCACCzvFpp"
      },
      "execution_count": null,
      "outputs": []
    },
    {
      "cell_type": "code",
      "source": [
        "from pyspark.ml.feature import VectorAssembler\n",
        "\n",
        "feature_columns = [\"lead_time\", \"hotel_index\", \"previous_cancellations\",\n",
        "                   \"previous_bookings_not_canceled\", \"booking_changes\",\n",
        "                   \"deposit_type_index\", \"customer_type_index\",\n",
        "                   \"market_segment_index\", \"required_car_parking_spaces\",\n",
        "                   \"total_of_special_requests\"]\n",
        "\n",
        "assembler = VectorAssembler(inputCols=feature_columns, outputCol=\"features\")\n",
        "df_xy = assembler.transform(df1).select(\"features\", \"is_canceled\")\n",
        "\n",
        "df_xy.show(5)"
      ],
      "metadata": {
        "colab": {
          "base_uri": "https://localhost:8080/"
        },
        "id": "ukdWKm5QvNu_",
        "outputId": "96dce3b3-5c28-4e23-f14c-ca55a403f07e"
      },
      "execution_count": null,
      "outputs": [
        {
          "output_type": "stream",
          "name": "stdout",
          "text": [
            "+--------------------+-----------+\n",
            "|            features|is_canceled|\n",
            "+--------------------+-----------+\n",
            "|(10,[0,1,4,7],[34...|          0|\n",
            "|(10,[0,1,4,7],[73...|          0|\n",
            "|(10,[0,1,7],[7.0,...|          0|\n",
            "|(10,[0,1,7],[13.0...|          0|\n",
            "|(10,[0,1,9],[14.0...|          0|\n",
            "+--------------------+-----------+\n",
            "only showing top 5 rows\n",
            "\n"
          ]
        }
      ]
    },
    {
      "cell_type": "code",
      "source": [
        "df_xy.select(\"features\", \"is_canceled\").show(truncate=False)"
      ],
      "metadata": {
        "colab": {
          "base_uri": "https://localhost:8080/"
        },
        "id": "lxu5qyrsvZfy",
        "outputId": "c068cef9-14c2-457a-a2bd-726d123f0ce8"
      },
      "execution_count": null,
      "outputs": [
        {
          "output_type": "stream",
          "name": "stdout",
          "text": [
            "+----------------------------------+-----------+\n",
            "|features                          |is_canceled|\n",
            "+----------------------------------+-----------+\n",
            "|(10,[0,1,4,7],[342.0,1.0,3.0,3.0])|0          |\n",
            "|(10,[0,1,4,7],[737.0,1.0,4.0,3.0])|0          |\n",
            "|(10,[0,1,7],[7.0,1.0,3.0])        |0          |\n",
            "|(10,[0,1,7],[13.0,1.0,4.0])       |0          |\n",
            "|(10,[0,1,9],[14.0,1.0,1.0])       |0          |\n",
            "|(10,[0,1,9],[14.0,1.0,1.0])       |0          |\n",
            "|(10,[1,7],[1.0,3.0])              |0          |\n",
            "|(10,[0,1,7,9],[9.0,1.0,3.0,1.0])  |0          |\n",
            "|(10,[0,1,9],[85.0,1.0,1.0])       |1          |\n",
            "|(10,[0,1,7],[75.0,1.0,1.0])       |1          |\n",
            "|(10,[0,1],[23.0,1.0])             |1          |\n",
            "|(10,[0,1],[35.0,1.0])             |0          |\n",
            "|(10,[0,1,9],[68.0,1.0,3.0])       |0          |\n",
            "|(10,[0,1,4,9],[18.0,1.0,1.0,1.0]) |0          |\n",
            "|(10,[0,1],[37.0,1.0])             |0          |\n",
            "|(10,[0,1,9],[68.0,1.0,3.0])       |0          |\n",
            "|(10,[0,1,6,7],[37.0,1.0,2.0,1.0]) |0          |\n",
            "|(10,[0,1],[12.0,1.0])             |0          |\n",
            "|(10,[1,7],[1.0,4.0])              |0          |\n",
            "|(10,[0,1,7,9],[7.0,1.0,3.0,1.0])  |0          |\n",
            "+----------------------------------+-----------+\n",
            "only showing top 20 rows\n",
            "\n"
          ]
        }
      ]
    },
    {
      "cell_type": "code",
      "source": [
        "df1.printSchema()"
      ],
      "metadata": {
        "colab": {
          "base_uri": "https://localhost:8080/"
        },
        "id": "uSVBMgNRvi-b",
        "outputId": "d1225ef2-49ec-49d6-dd14-bb9c14a507e1"
      },
      "execution_count": null,
      "outputs": [
        {
          "output_type": "stream",
          "name": "stdout",
          "text": [
            "root\n",
            " |-- lead_time: integer (nullable = true)\n",
            " |-- hotel: string (nullable = true)\n",
            " |-- previous_cancellations: integer (nullable = true)\n",
            " |-- previous_bookings_not_canceled: integer (nullable = true)\n",
            " |-- booking_changes: integer (nullable = true)\n",
            " |-- deposit_type: string (nullable = true)\n",
            " |-- customer_type: string (nullable = true)\n",
            " |-- market_segment: string (nullable = true)\n",
            " |-- required_car_parking_spaces: integer (nullable = true)\n",
            " |-- total_of_special_requests: integer (nullable = true)\n",
            " |-- is_canceled: integer (nullable = true)\n",
            " |-- hotel_index: double (nullable = false)\n",
            " |-- deposit_type_index: double (nullable = false)\n",
            " |-- customer_type_index: double (nullable = false)\n",
            " |-- market_segment_index: double (nullable = false)\n",
            "\n"
          ]
        }
      ]
    },
    {
      "cell_type": "code",
      "source": [
        "from pyspark.ml.regression import LinearRegression"
      ],
      "metadata": {
        "id": "xB-I0hUvvzGI"
      },
      "execution_count": null,
      "outputs": []
    },
    {
      "cell_type": "code",
      "source": [
        "from pyspark.ml.regression import LinearRegression"
      ],
      "metadata": {
        "id": "VwdsQwiDv6PK"
      },
      "execution_count": null,
      "outputs": []
    },
    {
      "cell_type": "code",
      "source": [
        "#Data Split (Train/Test Split)"
      ],
      "metadata": {
        "id": "cnvF6o3hv_Tx"
      },
      "execution_count": null,
      "outputs": []
    },
    {
      "cell_type": "code",
      "source": [
        "train_data,test_data=df_xy.randomSplit([0.8,0.2],seed=42)"
      ],
      "metadata": {
        "id": "spM6tiZEwD5L"
      },
      "execution_count": null,
      "outputs": []
    },
    {
      "cell_type": "code",
      "source": [
        "train_data.describe().show()"
      ],
      "metadata": {
        "colab": {
          "base_uri": "https://localhost:8080/"
        },
        "id": "I17ONEB3wLmJ",
        "outputId": "3c3d389a-43f1-48b6-9766-a3f1f9919032"
      },
      "execution_count": null,
      "outputs": [
        {
          "output_type": "stream",
          "name": "stdout",
          "text": [
            "+-------+------------------+\n",
            "|summary|       is_canceled|\n",
            "+-------+------------------+\n",
            "|  count|             95484|\n",
            "|   mean|0.3708998366218424|\n",
            "| stddev|0.4830482289893774|\n",
            "|    min|                 0|\n",
            "|    max|                 1|\n",
            "+-------+------------------+\n",
            "\n"
          ]
        }
      ]
    },
    {
      "cell_type": "code",
      "source": [
        "test_data.describe().show()"
      ],
      "metadata": {
        "colab": {
          "base_uri": "https://localhost:8080/"
        },
        "id": "UWW6lFEIwOWt",
        "outputId": "9286a5b4-9c26-45ee-ee2c-002006eb6562"
      },
      "execution_count": null,
      "outputs": [
        {
          "output_type": "stream",
          "name": "stdout",
          "text": [
            "+-------+-------------------+\n",
            "|summary|        is_canceled|\n",
            "+-------+-------------------+\n",
            "|  count|              23906|\n",
            "|   mean|0.36848489918848826|\n",
            "| stddev|0.48240388968351644|\n",
            "|    min|                  0|\n",
            "|    max|                  1|\n",
            "+-------+-------------------+\n",
            "\n"
          ]
        }
      ]
    },
    {
      "cell_type": "code",
      "source": [],
      "metadata": {
        "id": "_rG2cSPWwW75"
      },
      "execution_count": null,
      "outputs": []
    },
    {
      "cell_type": "code",
      "source": [
        "train_data.show()"
      ],
      "metadata": {
        "colab": {
          "base_uri": "https://localhost:8080/"
        },
        "id": "1DwFI0ofwaSy",
        "outputId": "806db63a-7db9-4dfd-e25e-a67b189fc32f"
      },
      "execution_count": null,
      "outputs": [
        {
          "output_type": "stream",
          "name": "stdout",
          "text": [
            "+----------+-----------+\n",
            "|  features|is_canceled|\n",
            "+----------+-----------+\n",
            "|(10,[],[])|          0|\n",
            "|(10,[],[])|          0|\n",
            "|(10,[],[])|          0|\n",
            "|(10,[],[])|          0|\n",
            "|(10,[],[])|          0|\n",
            "|(10,[],[])|          0|\n",
            "|(10,[],[])|          0|\n",
            "|(10,[],[])|          0|\n",
            "|(10,[],[])|          0|\n",
            "|(10,[],[])|          0|\n",
            "|(10,[],[])|          0|\n",
            "|(10,[],[])|          0|\n",
            "|(10,[],[])|          0|\n",
            "|(10,[],[])|          0|\n",
            "|(10,[],[])|          0|\n",
            "|(10,[],[])|          0|\n",
            "|(10,[],[])|          0|\n",
            "|(10,[],[])|          0|\n",
            "|(10,[],[])|          0|\n",
            "|(10,[],[])|          0|\n",
            "+----------+-----------+\n",
            "only showing top 20 rows\n",
            "\n"
          ]
        }
      ]
    },
    {
      "cell_type": "code",
      "source": [
        "test_data.show()"
      ],
      "metadata": {
        "colab": {
          "base_uri": "https://localhost:8080/"
        },
        "id": "NR1pi3EuwdTl",
        "outputId": "27807b09-a8d0-4829-e70f-2266f2caec88"
      },
      "execution_count": null,
      "outputs": [
        {
          "output_type": "stream",
          "name": "stdout",
          "text": [
            "+--------------+-----------+\n",
            "|      features|is_canceled|\n",
            "+--------------+-----------+\n",
            "|    (10,[],[])|          0|\n",
            "|    (10,[],[])|          0|\n",
            "|    (10,[],[])|          0|\n",
            "|    (10,[],[])|          0|\n",
            "|    (10,[],[])|          0|\n",
            "|    (10,[],[])|          0|\n",
            "|    (10,[],[])|          0|\n",
            "|    (10,[],[])|          0|\n",
            "|    (10,[],[])|          0|\n",
            "|    (10,[],[])|          0|\n",
            "|    (10,[],[])|          0|\n",
            "|    (10,[],[])|          0|\n",
            "|    (10,[],[])|          0|\n",
            "|    (10,[],[])|          1|\n",
            "|    (10,[],[])|          1|\n",
            "|    (10,[],[])|          1|\n",
            "|    (10,[],[])|          1|\n",
            "|(10,[0],[1.0])|          0|\n",
            "|(10,[0],[1.0])|          1|\n",
            "|(10,[0],[1.0])|          1|\n",
            "+--------------+-----------+\n",
            "only showing top 20 rows\n",
            "\n"
          ]
        }
      ]
    },
    {
      "cell_type": "code",
      "source": [
        "model=LinearRegression(featuresCol=\"features\",labelCol=\"is_canceled\")"
      ],
      "metadata": {
        "id": "wNi5B78AwpRN"
      },
      "execution_count": null,
      "outputs": []
    },
    {
      "cell_type": "code",
      "source": [
        "lr_model=model.fit(train_data)"
      ],
      "metadata": {
        "id": "qH9GlW_6wwAa"
      },
      "execution_count": null,
      "outputs": []
    },
    {
      "cell_type": "markdown",
      "source": [
        "Model Evalution\n"
      ],
      "metadata": {
        "id": "9hqcet5Uw2PD"
      }
    },
    {
      "cell_type": "code",
      "source": [
        "prediction=lr_model.transform(test_data)"
      ],
      "metadata": {
        "id": "4fGgW52ew53Q"
      },
      "execution_count": null,
      "outputs": []
    },
    {
      "cell_type": "code",
      "source": [
        "prediction.select(\"prediction\",\"is_canceled\").show(20)"
      ],
      "metadata": {
        "colab": {
          "base_uri": "https://localhost:8080/"
        },
        "id": "g9SnFtOaxE7j",
        "outputId": "0782fbcc-b162-4deb-da3a-082d59caa163"
      },
      "execution_count": null,
      "outputs": [
        {
          "output_type": "stream",
          "name": "stdout",
          "text": [
            "+------------------+-----------+\n",
            "|        prediction|is_canceled|\n",
            "+------------------+-----------+\n",
            "|0.4115108775753004|          0|\n",
            "|0.4115108775753004|          0|\n",
            "|0.4115108775753004|          0|\n",
            "|0.4115108775753004|          0|\n",
            "|0.4115108775753004|          0|\n",
            "|0.4115108775753004|          0|\n",
            "|0.4115108775753004|          0|\n",
            "|0.4115108775753004|          0|\n",
            "|0.4115108775753004|          0|\n",
            "|0.4115108775753004|          0|\n",
            "|0.4115108775753004|          0|\n",
            "|0.4115108775753004|          0|\n",
            "|0.4115108775753004|          0|\n",
            "|0.4115108775753004|          1|\n",
            "|0.4115108775753004|          1|\n",
            "|0.4115108775753004|          1|\n",
            "|0.4115108775753004|          1|\n",
            "|0.4121365441198786|          0|\n",
            "|0.4121365441198786|          1|\n",
            "|0.4121365441198786|          1|\n",
            "+------------------+-----------+\n",
            "only showing top 20 rows\n",
            "\n"
          ]
        }
      ]
    },
    {
      "source": [
        "from pyspark.ml.evaluation import RegressionEvaluator\n",
        "\n",
        "evaluator = RegressionEvaluator(labelCol=\"is_canceled\", predictionCol=\"prediction\", metricName=\"rmse\")\n",
        "rmse = evaluator.evaluate(prediction)"
      ],
      "cell_type": "code",
      "metadata": {
        "id": "uwFRkZVHxUt6"
      },
      "execution_count": null,
      "outputs": []
    },
    {
      "cell_type": "code",
      "source": [
        "print(f\"Root mean Squared Error (RMSE):{rmse}\")"
      ],
      "metadata": {
        "colab": {
          "base_uri": "https://localhost:8080/"
        },
        "id": "ducQbC_nxmA-",
        "outputId": "6dad3725-0861-4799-e722-3b1f406b6487"
      },
      "execution_count": null,
      "outputs": [
        {
          "output_type": "stream",
          "name": "stdout",
          "text": [
            "Root mean Squared Error (RMSE):0.39990611846766905\n"
          ]
        }
      ]
    },
    {
      "cell_type": "code",
      "source": [
        "r2_evaluate=RegressionEvaluator(labelCol=\"is_canceled\",predictionCol=\"prediction\",metricName=\"r2\")\n",
        "r2=r2_evaluate.evaluate(prediction)\n",
        "print(f\"R-squared (R2):{r2}\")"
      ],
      "metadata": {
        "colab": {
          "base_uri": "https://localhost:8080/"
        },
        "id": "7Uu5_GdPxvdc",
        "outputId": "5e125cae-7923-4a9c-d0c3-327d28235165"
      },
      "execution_count": null,
      "outputs": [
        {
          "output_type": "stream",
          "name": "stdout",
          "text": [
            "R-squared (R2):0.31275330042042526\n"
          ]
        }
      ]
    },
    {
      "cell_type": "code",
      "source": [
        "from pyspark.sql.functions import count"
      ],
      "metadata": {
        "id": "1FR2rq3rx3N-"
      },
      "execution_count": null,
      "outputs": []
    },
    {
      "cell_type": "code",
      "source": [
        "df1.groupBy(\"hotel\").agg(count(\"*\").alias(\"total_bookings\")).show()"
      ],
      "metadata": {
        "colab": {
          "base_uri": "https://localhost:8080/"
        },
        "id": "cT8UJATvx8t5",
        "outputId": "e3cadab4-aa14-44e5-ec3d-8f5162b33bb3"
      },
      "execution_count": null,
      "outputs": [
        {
          "output_type": "stream",
          "name": "stdout",
          "text": [
            "+------------+--------------+\n",
            "|       hotel|total_bookings|\n",
            "+------------+--------------+\n",
            "|  City Hotel|         79330|\n",
            "|Resort Hotel|         40060|\n",
            "+------------+--------------+\n",
            "\n"
          ]
        }
      ]
    },
    {
      "cell_type": "code",
      "source": [
        "from pyspark.sql.functions import avg"
      ],
      "metadata": {
        "id": "SbPRxT1HyGN2"
      },
      "execution_count": null,
      "outputs": []
    },
    {
      "cell_type": "code",
      "source": [
        "df1.groupBy(\"hotel\").agg(avg(\"lead_time\").alias(\"average_lead_time\")).show()"
      ],
      "metadata": {
        "colab": {
          "base_uri": "https://localhost:8080/"
        },
        "id": "L-LBfX0kyNSs",
        "outputId": "16e13330-856d-4037-8147-5264586b8557"
      },
      "execution_count": null,
      "outputs": [
        {
          "output_type": "stream",
          "name": "stdout",
          "text": [
            "+------------+------------------+\n",
            "|       hotel| average_lead_time|\n",
            "+------------+------------------+\n",
            "|  City Hotel|109.73572419009201|\n",
            "|Resort Hotel| 92.67568647029456|\n",
            "+------------+------------------+\n",
            "\n"
          ]
        }
      ]
    },
    {
      "cell_type": "code",
      "source": [
        "from pyspark.sql.functions import sum"
      ],
      "metadata": {
        "id": "YXV1LOYPyexR"
      },
      "execution_count": null,
      "outputs": []
    },
    {
      "cell_type": "code",
      "source": [
        "df1.groupBy(\"hotel\").agg(sum(\"is_canceled\").alias(\"totel_cancellations\")).show()"
      ],
      "metadata": {
        "colab": {
          "base_uri": "https://localhost:8080/"
        },
        "id": "_pOnZsB6ylhd",
        "outputId": "3623d5a8-fdb0-4baf-b42c-86746a2cb9dd"
      },
      "execution_count": null,
      "outputs": [
        {
          "output_type": "stream",
          "name": "stdout",
          "text": [
            "+------------+-------------------+\n",
            "|       hotel|totel_cancellations|\n",
            "+------------+-------------------+\n",
            "|  City Hotel|              33102|\n",
            "|Resort Hotel|              11122|\n",
            "+------------+-------------------+\n",
            "\n"
          ]
        }
      ]
    },
    {
      "cell_type": "code",
      "source": [
        "df1.groupBy(\"market_segment\").agg(count(\"*\").alias(\"totel_mooking\")).show()"
      ],
      "metadata": {
        "colab": {
          "base_uri": "https://localhost:8080/"
        },
        "id": "juX1g4Zvzv0y",
        "outputId": "704e92e3-1a32-48ec-cd54-ef0885174461"
      },
      "execution_count": null,
      "outputs": [
        {
          "output_type": "stream",
          "name": "stdout",
          "text": [
            "+--------------+-------------+\n",
            "|market_segment|totel_mooking|\n",
            "+--------------+-------------+\n",
            "| Offline TA/TO|        24219|\n",
            "| Complementary|          743|\n",
            "|      Aviation|          237|\n",
            "|        Direct|        12606|\n",
            "|     Undefined|            2|\n",
            "|     Corporate|         5295|\n",
            "|     Online TA|        56477|\n",
            "|        Groups|        19811|\n",
            "+--------------+-------------+\n",
            "\n"
          ]
        }
      ]
    },
    {
      "cell_type": "code",
      "source": [
        "# No code was provided to correct.\n",
        "# Please provide the code you want me to correct.\n",
        "\n",
        "**Data Preprocessing:**\n",
        "\n",
        "*   **Data Cleaning:**  Handles missing values by dropping rows with `na.drop()`.  This is a simple approach; imputation might be more sophisticated in a real-world scenario.\n",
        "*   **Feature Selection:** Selects relevant features for the model.\n",
        "*   **Feature Engineering:**  Converts categorical features (hotel type, deposit type, customer type, market segment) into numerical representations using StringIndexer. This is crucial as linear regression requires numerical input.\n",
        "*   **Vector Assembler:** Combines selected features into a single vector column named \"features\", which is the input for the linear regression model.\n",
        "\n",
        "**Model Training and Evaluation:**\n",
        "\n",
        "*   **Data Splitting:** Splits the data into 80% training and 20% testing sets.\n",
        "*   **Linear Regression:** Trains a linear regression model using the training data.\n",
        "*   **Model Evaluation:** Evaluates the model's performance on the test data using:\n",
        "    *   **RMSE (Root Mean Squared Error):** Measures the average difference between the predicted and actual cancellation values. A lower RMSE indicates better accuracy. The specific RMSE value is printed in the output.\n",
        "    *   **R-squared (R2):** Represents the proportion of variance in the target variable explained by the model.  A higher R2 suggests a better fit. The specific R2 value is printed in the output.\n",
        "\n",
        "**Additional Analysis:**\n",
        "\n",
        "*   **Aggregate Functions:**  The code performs aggregations on the data to provide insights into:\n",
        "    *   Total bookings by hotel type.\n",
        "    *   Average lead time by hotel type.\n",
        "    *   Total cancellations by hotel type.\n",
        "    *   Total bookings by market segment.\n",
        "\n",
        "**Possible Improvements:**\n",
        "\n",
        "*   **More Robust Data Cleaning:** Explore more advanced imputation techniques for missing values instead of simply removing rows.\n",
        "*   **Feature Scaling:** Consider scaling numerical features (like \"lead\\_time\") using StandardScaler or MinMaxScaler to improve model performance.\n",
        "*   **Hyperparameter Tuning:**  Experiment with different hyperparameters for the linear regression model (e.g., regularization parameters) using techniques like cross-validation to optimize its performance.\n",
        "*   **Model Selection:** Try different regression models (e.g., decision trees, random forests, gradient boosting) and compare their performance.\n",
        "*   **Feature Importance:** Analyze the feature importance scores to understand which features are most influential in predicting cancellations.\n",
        "\n",
        "**Overall Interpretation of the Results:**\n",
        "\n",
        "The RMSE and R2 values provide a quantitative measure of the model's prediction accuracy.  The aggregate functions offer insights into the booking and cancellation patterns for different hotel types and market segments. However, without specific values for RMSE and R2 in the output, I cannot assess the quality of the model. Analyze the RMSE and R2 printed by the execution to understand the accuracy of the predictions.  A low RMSE and a high R2 value indicate a better-performing model.\n"
      ],
      "metadata": {
        "colab": {
          "base_uri": "https://localhost:8080/",
          "height": 124
        },
        "id": "LlPIDHIo0D9j",
        "outputId": "c6892823-28af-4c32-cb5d-ca52c7c3709c"
      },
      "execution_count": null,
      "outputs": [
        {
          "output_type": "error",
          "ename": "SyntaxError",
          "evalue": "unterminated string literal (detected at line 1) (<ipython-input-57-17437b0ca4d1>, line 1)",
          "traceback": [
            "\u001b[0;36m  File \u001b[0;32m\"<ipython-input-57-17437b0ca4d1>\"\u001b[0;36m, line \u001b[0;32m1\u001b[0m\n\u001b[0;31m    The provided code performs a hotel booking cancellation prediction using a linear regression model in PySpark. Here's a breakdown of the results and insights gained:\u001b[0m\n\u001b[0m                                                                                                                       ^\u001b[0m\n\u001b[0;31mSyntaxError\u001b[0m\u001b[0;31m:\u001b[0m unterminated string literal (detected at line 1)\n"
          ]
        }
      ]
    },
    {
      "cell_type": "code",
      "source": [],
      "metadata": {
        "id": "4OiReVoG03ny"
      },
      "execution_count": null,
      "outputs": []
    }
  ],
  "metadata": {
    "colab": {
      "provenance": [],
      "authorship_tag": "ABX9TyO8vDJeVxAOVmVqa/g7Gl+c",
      "include_colab_link": true
    },
    "kernelspec": {
      "display_name": "Python 3",
      "name": "python3"
    },
    "language_info": {
      "name": "python"
    }
  },
  "nbformat": 4,
  "nbformat_minor": 0
}